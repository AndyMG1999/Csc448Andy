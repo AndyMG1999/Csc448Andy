{
  "nbformat": 4,
  "nbformat_minor": 0,
  "metadata": {
    "colab": {
      "name": "Assignment 4 - Andy Gonzalez.ipynb",
      "provenance": [],
      "collapsed_sections": [],
      "authorship_tag": "ABX9TyM4h2WP6Ywr1W+gAu5Q4L/B",
      "include_colab_link": true
    },
    "kernelspec": {
      "name": "python3",
      "display_name": "Python 3"
    },
    "language_info": {
      "name": "python"
    }
  },
  "cells": [
    {
      "cell_type": "markdown",
      "metadata": {
        "id": "view-in-github",
        "colab_type": "text"
      },
      "source": [
        "<a href=\"https://colab.research.google.com/github/AndyMG1999/Csc448Andy/blob/main/Assignment_4_Andy_Gonzalez.ipynb\" target=\"_parent\"><img src=\"https://colab.research.google.com/assets/colab-badge.svg\" alt=\"Open In Colab\"/></a>"
      ]
    },
    {
      "cell_type": "code",
      "execution_count": 40,
      "metadata": {
        "id": "OWlH-Xv3nOGn"
      },
      "outputs": [],
      "source": [
        "# Imports and pip installations (if needed)\n",
        "import pandas as pd\n",
        "import numpy as np\n",
        "from sklearn.model_selection import train_test_split\n",
        "from sklearn.linear_model import LogisticRegression\n",
        "from sklearn.linear_model import BayesianRidge\n",
        "from sklearn.model_selection import cross_val_score\n",
        "from sklearn.preprocessing import PolynomialFeatures as poly\n",
        "from sklearn.model_selection import ShuffleSplit\n",
        "from sklearn.datasets import load_iris\n",
        "from sklearn import svm\n",
        "from sklearn.svm import SVC\n",
        "from sklearn.neural_network import MLPClassifier\n",
        "from sklearn.neighbors import KNeighborsClassifier"
      ]
    },
    {
      "cell_type": "markdown",
      "source": [
        "# Part 1: Load the dataset"
      ],
      "metadata": {
        "id": "c5XMRePnn1Es"
      }
    },
    {
      "cell_type": "code",
      "source": [
        "# Load the dataset (load remotely, not locally)\n",
        "iris = load_iris()\n",
        "iris_df = pd.DataFrame(iris['data'],columns = iris.feature_names)\n",
        "iris_df[\"species\"]= iris.target\n",
        "\n",
        "# Output the first 15 rows of the data\n",
        "iris_df.rename(columns = {'Sepal Length':'0'})\n",
        "iris_df.head(15)"
      ],
      "metadata": {
        "colab": {
          "base_uri": "https://localhost:8080/",
          "height": 520
        },
        "id": "thFNwtoVnzSe",
        "outputId": "9b1036d2-857f-4aaf-d92e-8541a6f7250a"
      },
      "execution_count": 48,
      "outputs": [
        {
          "output_type": "execute_result",
          "data": {
            "text/plain": [
              "    sepal length (cm)  sepal width (cm)  petal length (cm)  petal width (cm)  \\\n",
              "0                 5.1               3.5                1.4               0.2   \n",
              "1                 4.9               3.0                1.4               0.2   \n",
              "2                 4.7               3.2                1.3               0.2   \n",
              "3                 4.6               3.1                1.5               0.2   \n",
              "4                 5.0               3.6                1.4               0.2   \n",
              "5                 5.4               3.9                1.7               0.4   \n",
              "6                 4.6               3.4                1.4               0.3   \n",
              "7                 5.0               3.4                1.5               0.2   \n",
              "8                 4.4               2.9                1.4               0.2   \n",
              "9                 4.9               3.1                1.5               0.1   \n",
              "10                5.4               3.7                1.5               0.2   \n",
              "11                4.8               3.4                1.6               0.2   \n",
              "12                4.8               3.0                1.4               0.1   \n",
              "13                4.3               3.0                1.1               0.1   \n",
              "14                5.8               4.0                1.2               0.2   \n",
              "\n",
              "    species  \n",
              "0         0  \n",
              "1         0  \n",
              "2         0  \n",
              "3         0  \n",
              "4         0  \n",
              "5         0  \n",
              "6         0  \n",
              "7         0  \n",
              "8         0  \n",
              "9         0  \n",
              "10        0  \n",
              "11        0  \n",
              "12        0  \n",
              "13        0  \n",
              "14        0  "
            ],
            "text/html": [
              "\n",
              "  <div id=\"df-baa0d705-e20b-4a42-b709-1356b3f1f59d\">\n",
              "    <div class=\"colab-df-container\">\n",
              "      <div>\n",
              "<style scoped>\n",
              "    .dataframe tbody tr th:only-of-type {\n",
              "        vertical-align: middle;\n",
              "    }\n",
              "\n",
              "    .dataframe tbody tr th {\n",
              "        vertical-align: top;\n",
              "    }\n",
              "\n",
              "    .dataframe thead th {\n",
              "        text-align: right;\n",
              "    }\n",
              "</style>\n",
              "<table border=\"1\" class=\"dataframe\">\n",
              "  <thead>\n",
              "    <tr style=\"text-align: right;\">\n",
              "      <th></th>\n",
              "      <th>sepal length (cm)</th>\n",
              "      <th>sepal width (cm)</th>\n",
              "      <th>petal length (cm)</th>\n",
              "      <th>petal width (cm)</th>\n",
              "      <th>species</th>\n",
              "    </tr>\n",
              "  </thead>\n",
              "  <tbody>\n",
              "    <tr>\n",
              "      <th>0</th>\n",
              "      <td>5.1</td>\n",
              "      <td>3.5</td>\n",
              "      <td>1.4</td>\n",
              "      <td>0.2</td>\n",
              "      <td>0</td>\n",
              "    </tr>\n",
              "    <tr>\n",
              "      <th>1</th>\n",
              "      <td>4.9</td>\n",
              "      <td>3.0</td>\n",
              "      <td>1.4</td>\n",
              "      <td>0.2</td>\n",
              "      <td>0</td>\n",
              "    </tr>\n",
              "    <tr>\n",
              "      <th>2</th>\n",
              "      <td>4.7</td>\n",
              "      <td>3.2</td>\n",
              "      <td>1.3</td>\n",
              "      <td>0.2</td>\n",
              "      <td>0</td>\n",
              "    </tr>\n",
              "    <tr>\n",
              "      <th>3</th>\n",
              "      <td>4.6</td>\n",
              "      <td>3.1</td>\n",
              "      <td>1.5</td>\n",
              "      <td>0.2</td>\n",
              "      <td>0</td>\n",
              "    </tr>\n",
              "    <tr>\n",
              "      <th>4</th>\n",
              "      <td>5.0</td>\n",
              "      <td>3.6</td>\n",
              "      <td>1.4</td>\n",
              "      <td>0.2</td>\n",
              "      <td>0</td>\n",
              "    </tr>\n",
              "    <tr>\n",
              "      <th>5</th>\n",
              "      <td>5.4</td>\n",
              "      <td>3.9</td>\n",
              "      <td>1.7</td>\n",
              "      <td>0.4</td>\n",
              "      <td>0</td>\n",
              "    </tr>\n",
              "    <tr>\n",
              "      <th>6</th>\n",
              "      <td>4.6</td>\n",
              "      <td>3.4</td>\n",
              "      <td>1.4</td>\n",
              "      <td>0.3</td>\n",
              "      <td>0</td>\n",
              "    </tr>\n",
              "    <tr>\n",
              "      <th>7</th>\n",
              "      <td>5.0</td>\n",
              "      <td>3.4</td>\n",
              "      <td>1.5</td>\n",
              "      <td>0.2</td>\n",
              "      <td>0</td>\n",
              "    </tr>\n",
              "    <tr>\n",
              "      <th>8</th>\n",
              "      <td>4.4</td>\n",
              "      <td>2.9</td>\n",
              "      <td>1.4</td>\n",
              "      <td>0.2</td>\n",
              "      <td>0</td>\n",
              "    </tr>\n",
              "    <tr>\n",
              "      <th>9</th>\n",
              "      <td>4.9</td>\n",
              "      <td>3.1</td>\n",
              "      <td>1.5</td>\n",
              "      <td>0.1</td>\n",
              "      <td>0</td>\n",
              "    </tr>\n",
              "    <tr>\n",
              "      <th>10</th>\n",
              "      <td>5.4</td>\n",
              "      <td>3.7</td>\n",
              "      <td>1.5</td>\n",
              "      <td>0.2</td>\n",
              "      <td>0</td>\n",
              "    </tr>\n",
              "    <tr>\n",
              "      <th>11</th>\n",
              "      <td>4.8</td>\n",
              "      <td>3.4</td>\n",
              "      <td>1.6</td>\n",
              "      <td>0.2</td>\n",
              "      <td>0</td>\n",
              "    </tr>\n",
              "    <tr>\n",
              "      <th>12</th>\n",
              "      <td>4.8</td>\n",
              "      <td>3.0</td>\n",
              "      <td>1.4</td>\n",
              "      <td>0.1</td>\n",
              "      <td>0</td>\n",
              "    </tr>\n",
              "    <tr>\n",
              "      <th>13</th>\n",
              "      <td>4.3</td>\n",
              "      <td>3.0</td>\n",
              "      <td>1.1</td>\n",
              "      <td>0.1</td>\n",
              "      <td>0</td>\n",
              "    </tr>\n",
              "    <tr>\n",
              "      <th>14</th>\n",
              "      <td>5.8</td>\n",
              "      <td>4.0</td>\n",
              "      <td>1.2</td>\n",
              "      <td>0.2</td>\n",
              "      <td>0</td>\n",
              "    </tr>\n",
              "  </tbody>\n",
              "</table>\n",
              "</div>\n",
              "      <button class=\"colab-df-convert\" onclick=\"convertToInteractive('df-baa0d705-e20b-4a42-b709-1356b3f1f59d')\"\n",
              "              title=\"Convert this dataframe to an interactive table.\"\n",
              "              style=\"display:none;\">\n",
              "        \n",
              "  <svg xmlns=\"http://www.w3.org/2000/svg\" height=\"24px\"viewBox=\"0 0 24 24\"\n",
              "       width=\"24px\">\n",
              "    <path d=\"M0 0h24v24H0V0z\" fill=\"none\"/>\n",
              "    <path d=\"M18.56 5.44l.94 2.06.94-2.06 2.06-.94-2.06-.94-.94-2.06-.94 2.06-2.06.94zm-11 1L8.5 8.5l.94-2.06 2.06-.94-2.06-.94L8.5 2.5l-.94 2.06-2.06.94zm10 10l.94 2.06.94-2.06 2.06-.94-2.06-.94-.94-2.06-.94 2.06-2.06.94z\"/><path d=\"M17.41 7.96l-1.37-1.37c-.4-.4-.92-.59-1.43-.59-.52 0-1.04.2-1.43.59L10.3 9.45l-7.72 7.72c-.78.78-.78 2.05 0 2.83L4 21.41c.39.39.9.59 1.41.59.51 0 1.02-.2 1.41-.59l7.78-7.78 2.81-2.81c.8-.78.8-2.07 0-2.86zM5.41 20L4 18.59l7.72-7.72 1.47 1.35L5.41 20z\"/>\n",
              "  </svg>\n",
              "      </button>\n",
              "      \n",
              "  <style>\n",
              "    .colab-df-container {\n",
              "      display:flex;\n",
              "      flex-wrap:wrap;\n",
              "      gap: 12px;\n",
              "    }\n",
              "\n",
              "    .colab-df-convert {\n",
              "      background-color: #E8F0FE;\n",
              "      border: none;\n",
              "      border-radius: 50%;\n",
              "      cursor: pointer;\n",
              "      display: none;\n",
              "      fill: #1967D2;\n",
              "      height: 32px;\n",
              "      padding: 0 0 0 0;\n",
              "      width: 32px;\n",
              "    }\n",
              "\n",
              "    .colab-df-convert:hover {\n",
              "      background-color: #E2EBFA;\n",
              "      box-shadow: 0px 1px 2px rgba(60, 64, 67, 0.3), 0px 1px 3px 1px rgba(60, 64, 67, 0.15);\n",
              "      fill: #174EA6;\n",
              "    }\n",
              "\n",
              "    [theme=dark] .colab-df-convert {\n",
              "      background-color: #3B4455;\n",
              "      fill: #D2E3FC;\n",
              "    }\n",
              "\n",
              "    [theme=dark] .colab-df-convert:hover {\n",
              "      background-color: #434B5C;\n",
              "      box-shadow: 0px 1px 3px 1px rgba(0, 0, 0, 0.15);\n",
              "      filter: drop-shadow(0px 1px 2px rgba(0, 0, 0, 0.3));\n",
              "      fill: #FFFFFF;\n",
              "    }\n",
              "  </style>\n",
              "\n",
              "      <script>\n",
              "        const buttonEl =\n",
              "          document.querySelector('#df-baa0d705-e20b-4a42-b709-1356b3f1f59d button.colab-df-convert');\n",
              "        buttonEl.style.display =\n",
              "          google.colab.kernel.accessAllowed ? 'block' : 'none';\n",
              "\n",
              "        async function convertToInteractive(key) {\n",
              "          const element = document.querySelector('#df-baa0d705-e20b-4a42-b709-1356b3f1f59d');\n",
              "          const dataTable =\n",
              "            await google.colab.kernel.invokeFunction('convertToInteractive',\n",
              "                                                     [key], {});\n",
              "          if (!dataTable) return;\n",
              "\n",
              "          const docLinkHtml = 'Like what you see? Visit the ' +\n",
              "            '<a target=\"_blank\" href=https://colab.research.google.com/notebooks/data_table.ipynb>data table notebook</a>'\n",
              "            + ' to learn more about interactive tables.';\n",
              "          element.innerHTML = '';\n",
              "          dataTable['output_type'] = 'display_data';\n",
              "          await google.colab.output.renderOutput(dataTable, element);\n",
              "          const docLink = document.createElement('div');\n",
              "          docLink.innerHTML = docLinkHtml;\n",
              "          element.appendChild(docLink);\n",
              "        }\n",
              "      </script>\n",
              "    </div>\n",
              "  </div>\n",
              "  "
            ]
          },
          "metadata": {},
          "execution_count": 48
        }
      ]
    },
    {
      "cell_type": "code",
      "source": [
        "# Display a summary of the table information (number of datapoints, etc.)\n",
        "iris_df.info()"
      ],
      "metadata": {
        "colab": {
          "base_uri": "https://localhost:8080/"
        },
        "id": "3zWoASCqoSHF",
        "outputId": "e4467f21-d93a-4400-f453-4b8ef8b68fb7"
      },
      "execution_count": 42,
      "outputs": [
        {
          "output_type": "stream",
          "name": "stdout",
          "text": [
            "<class 'pandas.core.frame.DataFrame'>\n",
            "RangeIndex: 150 entries, 0 to 149\n",
            "Data columns (total 5 columns):\n",
            " #   Column             Non-Null Count  Dtype  \n",
            "---  ------             --------------  -----  \n",
            " 0   sepal length (cm)  150 non-null    float64\n",
            " 1   sepal width (cm)   150 non-null    float64\n",
            " 2   petal length (cm)  150 non-null    float64\n",
            " 3   petal width (cm)   150 non-null    float64\n",
            " 4   species            150 non-null    int64  \n",
            "dtypes: float64(4), int64(1)\n",
            "memory usage: 6.0 KB\n"
          ]
        }
      ]
    },
    {
      "cell_type": "markdown",
      "source": [
        "## About the dataset\n",
        "Explain what the data is in your own words. What are your features and labels? What is the mapping of your labels to the actual classes?\n",
        "\n",
        "The data containers different measurements of iris plant's sepal and petal sizes. The features are these sizes and I am assuming the labels are the species of iris it would be. I assume the ML programs are going to find patterns in this data and make predictions as to what the species would be based on the data."
      ],
      "metadata": {
        "id": "vfwv64AtocjM"
      }
    },
    {
      "cell_type": "markdown",
      "source": [
        "# Part 2: Split the dataset into train and test"
      ],
      "metadata": {
        "id": "pdHB4bDmoj6E"
      }
    },
    {
      "cell_type": "code",
      "source": [
        "# Take the dataset and split it into our features (X) and label (y)\n",
        "features = iris_df[[\"sepal length (cm)\",\"sepal width (cm)\",\"petal length (cm)\",\"petal width (cm)\"]]\n",
        "label = iris_df['species']\n",
        "x, y = features, label\n",
        "\n",
        "# Use sklearn to split the features and labels into a training/test set. (90% train, 10% test)\n",
        "x_train,x_test,y_train,y_test = train_test_split(x,y,test_size=.10)\n",
        "x_train, x_test, y_train, y_test"
      ],
      "metadata": {
        "colab": {
          "base_uri": "https://localhost:8080/"
        },
        "id": "bA5u0hFOok2r",
        "outputId": "dba2e64f-51fe-4285-8471-aa07475cceb1"
      },
      "execution_count": 49,
      "outputs": [
        {
          "output_type": "execute_result",
          "data": {
            "text/plain": [
              "(     sepal length (cm)  sepal width (cm)  petal length (cm)  petal width (cm)\n",
              " 18                 5.7               3.8                1.7               0.3\n",
              " 100                6.3               3.3                6.0               2.5\n",
              " 94                 5.6               2.7                4.2               1.3\n",
              " 3                  4.6               3.1                1.5               0.2\n",
              " 24                 4.8               3.4                1.9               0.2\n",
              " ..                 ...               ...                ...               ...\n",
              " 102                7.1               3.0                5.9               2.1\n",
              " 118                7.7               2.6                6.9               2.3\n",
              " 98                 5.1               2.5                3.0               1.1\n",
              " 134                6.1               2.6                5.6               1.4\n",
              " 78                 6.0               2.9                4.5               1.5\n",
              " \n",
              " [135 rows x 4 columns],\n",
              "      sepal length (cm)  sepal width (cm)  petal length (cm)  petal width (cm)\n",
              " 127                6.1               3.0                4.9               1.8\n",
              " 97                 6.2               2.9                4.3               1.3\n",
              " 49                 5.0               3.3                1.4               0.2\n",
              " 23                 5.1               3.3                1.7               0.5\n",
              " 115                6.4               3.2                5.3               2.3\n",
              " 95                 5.7               3.0                4.2               1.2\n",
              " 16                 5.4               3.9                1.3               0.4\n",
              " 139                6.9               3.1                5.4               2.1\n",
              " 15                 5.7               4.4                1.5               0.4\n",
              " 52                 6.9               3.1                4.9               1.5\n",
              " 48                 5.3               3.7                1.5               0.2\n",
              " 106                4.9               2.5                4.5               1.7\n",
              " 44                 5.1               3.8                1.9               0.4\n",
              " 90                 5.5               2.6                4.4               1.2\n",
              " 62                 6.0               2.2                4.0               1.0,\n",
              " 18     0\n",
              " 100    2\n",
              " 94     1\n",
              " 3      0\n",
              " 24     0\n",
              "       ..\n",
              " 102    2\n",
              " 118    2\n",
              " 98     1\n",
              " 134    2\n",
              " 78     1\n",
              " Name: species, Length: 135, dtype: int64,\n",
              " 127    2\n",
              " 97     1\n",
              " 49     0\n",
              " 23     0\n",
              " 115    2\n",
              " 95     1\n",
              " 16     0\n",
              " 139    2\n",
              " 15     0\n",
              " 52     1\n",
              " 48     0\n",
              " 106    2\n",
              " 44     0\n",
              " 90     1\n",
              " 62     1\n",
              " Name: species, dtype: int64)"
            ]
          },
          "metadata": {},
          "execution_count": 49
        }
      ]
    },
    {
      "cell_type": "markdown",
      "source": [
        "# Part 3: Logistic Regression"
      ],
      "metadata": {
        "id": "CXxQ_isnopeM"
      }
    },
    {
      "cell_type": "code",
      "source": [
        "# i. Use sklearn to train a LogisticRegression model on the training set\n",
        "log_reg = LogisticRegression(max_iter=1000)\n",
        "log_reg.fit(x_train,y_train)"
      ],
      "metadata": {
        "colab": {
          "base_uri": "https://localhost:8080/"
        },
        "id": "TIul1pFhorjm",
        "outputId": "2b517f54-ee81-418b-8f91-9ec07a499954"
      },
      "execution_count": 44,
      "outputs": [
        {
          "output_type": "execute_result",
          "data": {
            "text/plain": [
              "LogisticRegression(max_iter=1000)"
            ]
          },
          "metadata": {},
          "execution_count": 44
        }
      ]
    },
    {
      "cell_type": "code",
      "source": [
        "# ii. For a sample datapoint, predict the probabilities for each possible class\n",
        "log_reg.predict(np.array([[1,2,3,4]]))"
      ],
      "metadata": {
        "colab": {
          "base_uri": "https://localhost:8080/"
        },
        "id": "evfRRse8oxmJ",
        "outputId": "61becbe4-95ef-44ea-8590-5b23bcf1cc27"
      },
      "execution_count": 50,
      "outputs": [
        {
          "output_type": "stream",
          "name": "stderr",
          "text": [
            "/usr/local/lib/python3.7/dist-packages/sklearn/base.py:451: UserWarning: X does not have valid feature names, but LogisticRegression was fitted with feature names\n",
            "  \"X does not have valid feature names, but\"\n"
          ]
        },
        {
          "output_type": "execute_result",
          "data": {
            "text/plain": [
              "array([2])"
            ]
          },
          "metadata": {},
          "execution_count": 50
        }
      ]
    },
    {
      "cell_type": "markdown",
      "source": [
        "2 represents the iris species Virgincia "
      ],
      "metadata": {
        "id": "suc5QZXRo0_U"
      }
    },
    {
      "cell_type": "code",
      "source": [
        "# ii. For a sample datapoint, predict the probabilities for each possible class\n",
        "log_reg.predict_proba(np.array([[1,2,3,4]]))"
      ],
      "metadata": {
        "colab": {
          "base_uri": "https://localhost:8080/"
        },
        "id": "kpcQI_HQo140",
        "outputId": "95b22743-8daa-4f8a-acb6-d287cf1b36b8"
      },
      "execution_count": 51,
      "outputs": [
        {
          "output_type": "stream",
          "name": "stderr",
          "text": [
            "/usr/local/lib/python3.7/dist-packages/sklearn/base.py:451: UserWarning: X does not have valid feature names, but LogisticRegression was fitted with feature names\n",
            "  \"X does not have valid feature names, but\"\n"
          ]
        },
        {
          "output_type": "execute_result",
          "data": {
            "text/plain": [
              "array([[0.04805288, 0.00867178, 0.94327535]])"
            ]
          },
          "metadata": {},
          "execution_count": 51
        }
      ]
    },
    {
      "cell_type": "code",
      "source": [
        "# iii. Report on the score for Logistic regression model, what does the score measure?\n",
        "log_reg.score(x_test,y_test)"
      ],
      "metadata": {
        "colab": {
          "base_uri": "https://localhost:8080/"
        },
        "id": "lONev-qio6qy",
        "outputId": "078681a1-d115-4d17-a3ae-9e92f611cb77"
      },
      "execution_count": 52,
      "outputs": [
        {
          "output_type": "execute_result",
          "data": {
            "text/plain": [
              "0.9333333333333333"
            ]
          },
          "metadata": {},
          "execution_count": 52
        }
      ]
    },
    {
      "cell_type": "markdown",
      "source": [
        "The score measures our chances(percentage) of classifying the flower correctly."
      ],
      "metadata": {
        "id": "mKYZFZqfo-5f"
      }
    },
    {
      "cell_type": "code",
      "source": [
        "# iv. Extract the coefficents and intercepts for the boundary line(s)\n",
        "print(\"Coeficients: \",log_reg.coef_)\n",
        "print(\"Intercept: \",log_reg.intercept_)"
      ],
      "metadata": {
        "id": "8o7MqQxfpBID",
        "colab": {
          "base_uri": "https://localhost:8080/"
        },
        "outputId": "96997fcd-4f67-412e-e4c9-bf6bb5b340de"
      },
      "execution_count": 53,
      "outputs": [
        {
          "output_type": "stream",
          "name": "stdout",
          "text": [
            "Coeficients:  [[-0.4360759   0.91939637 -2.44774077 -1.05167985]\n",
            " [ 0.47531899 -0.27959438 -0.14858175 -0.94978785]\n",
            " [-0.03924309 -0.63980198  2.59632252  2.0014677 ]]\n",
            "Intercept:  [  9.72561566   2.19492867 -11.92054434]\n"
          ]
        }
      ]
    },
    {
      "cell_type": "markdown",
      "source": [
        "# Part 4: Support Vector Machine"
      ],
      "metadata": {
        "id": "qS8dLYtepDz3"
      }
    },
    {
      "cell_type": "code",
      "source": [
        "# i. Use sklearn to train a Support Vector Classifier on the training set\n",
        "svm_model = SVC(probability=True)\n",
        "SVC.fit(svm_model,x_train,y_train)"
      ],
      "metadata": {
        "id": "SsktCSbqpGX_",
        "colab": {
          "base_uri": "https://localhost:8080/"
        },
        "outputId": "37488222-220e-45ba-d744-2eaaac80e800"
      },
      "execution_count": 54,
      "outputs": [
        {
          "output_type": "execute_result",
          "data": {
            "text/plain": [
              "SVC(probability=True)"
            ]
          },
          "metadata": {},
          "execution_count": 54
        }
      ]
    },
    {
      "cell_type": "code",
      "source": [
        "# ii. For a sample datapoint, predict the probabilities for each possible class\n",
        "svm_model.predict([[1,2,3,4]])"
      ],
      "metadata": {
        "id": "WgaSYOiOpIfx",
        "colab": {
          "base_uri": "https://localhost:8080/"
        },
        "outputId": "64aa2214-bafe-4674-9d52-67ea63839f70"
      },
      "execution_count": 55,
      "outputs": [
        {
          "output_type": "stream",
          "name": "stderr",
          "text": [
            "/usr/local/lib/python3.7/dist-packages/sklearn/base.py:451: UserWarning: X does not have valid feature names, but SVC was fitted with feature names\n",
            "  \"X does not have valid feature names, but\"\n"
          ]
        },
        {
          "output_type": "execute_result",
          "data": {
            "text/plain": [
              "array([2])"
            ]
          },
          "metadata": {},
          "execution_count": 55
        }
      ]
    },
    {
      "cell_type": "code",
      "source": [
        "# ii. For a sample datapoint, predict the probabilities for each possible class\n",
        "svm_model.predict_proba([[1,2,3,4]])"
      ],
      "metadata": {
        "id": "VsfIhRONpKhk",
        "colab": {
          "base_uri": "https://localhost:8080/"
        },
        "outputId": "16480fec-2fcf-4723-b432-d7c2a83aa31a"
      },
      "execution_count": 56,
      "outputs": [
        {
          "output_type": "stream",
          "name": "stderr",
          "text": [
            "/usr/local/lib/python3.7/dist-packages/sklearn/base.py:451: UserWarning: X does not have valid feature names, but SVC was fitted with feature names\n",
            "  \"X does not have valid feature names, but\"\n"
          ]
        },
        {
          "output_type": "execute_result",
          "data": {
            "text/plain": [
              "array([[0.29902652, 0.32038906, 0.38058442]])"
            ]
          },
          "metadata": {},
          "execution_count": 56
        }
      ]
    },
    {
      "cell_type": "code",
      "source": [
        "# iii. Report on the score for the SVM, what does the score measure?\n",
        "svm_model.score(x_test,y_test)"
      ],
      "metadata": {
        "id": "oOeUus5VpMSF",
        "colab": {
          "base_uri": "https://localhost:8080/"
        },
        "outputId": "5659aab8-e074-4735-9d7e-0f7e8ecbbd8a"
      },
      "execution_count": 57,
      "outputs": [
        {
          "output_type": "execute_result",
          "data": {
            "text/plain": [
              "0.9333333333333333"
            ]
          },
          "metadata": {},
          "execution_count": 57
        }
      ]
    },
    {
      "cell_type": "markdown",
      "source": [
        "The score measures our chances(percentage) of classifying the flower correctly."
      ],
      "metadata": {
        "id": "2McSkepjpPh1"
      }
    },
    {
      "cell_type": "markdown",
      "source": [
        "# Part 5: Neural Network"
      ],
      "metadata": {
        "id": "37RgzCB-pUJm"
      }
    },
    {
      "cell_type": "code",
      "source": [
        "# i. Use sklearn to train a Neural Network (MLP Classifier) on the training set\n",
        "mlp_model = MLPClassifier(solver='lbfgs', alpha=1e-5, hidden_layer_sizes =(15,), random_state=1).fit(features,label)\n",
        "mlp_model.fit(x_train,y_train)\n",
        "# ii. For a sample datapoint, predict the probabilities for each possible class\n",
        "mlp_model.predict_proba([[1,2,3,4]])\n"
      ],
      "metadata": {
        "id": "XZC-JTzqpWGR",
        "colab": {
          "base_uri": "https://localhost:8080/"
        },
        "outputId": "4e576ad1-c467-4760-8811-a0bbd7da51b7"
      },
      "execution_count": 59,
      "outputs": [
        {
          "output_type": "stream",
          "name": "stderr",
          "text": [
            "/usr/local/lib/python3.7/dist-packages/sklearn/base.py:451: UserWarning: X does not have valid feature names, but MLPClassifier was fitted with feature names\n",
            "  \"X does not have valid feature names, but\"\n"
          ]
        },
        {
          "output_type": "execute_result",
          "data": {
            "text/plain": [
              "array([[0.00000000e+00, 2.47997765e-13, 1.00000000e+00]])"
            ]
          },
          "metadata": {},
          "execution_count": 59
        }
      ]
    },
    {
      "cell_type": "code",
      "source": [
        "# iii. Report on the score for the Neural Network, what does the score measure?\n",
        "mlp_model.score(x_test,y_test)\n",
        "# iv: Experiment with different options for the neural network, report on your best configuration (the highest score I was able to achieve was 0.8666)"
      ],
      "metadata": {
        "id": "alERhl8OpaCW",
        "colab": {
          "base_uri": "https://localhost:8080/"
        },
        "outputId": "f2c9f09d-7399-4717-dbad-372c2fe42c61"
      },
      "execution_count": 60,
      "outputs": [
        {
          "output_type": "execute_result",
          "data": {
            "text/plain": [
              "1.0"
            ]
          },
          "metadata": {},
          "execution_count": 60
        }
      ]
    },
    {
      "cell_type": "markdown",
      "source": [
        "The score measures our chances(percentage) of classifying the flower correctly."
      ],
      "metadata": {
        "id": "rI_DNlCapcEQ"
      }
    },
    {
      "cell_type": "markdown",
      "source": [
        "# Part 6: K-Nearest Neighbors"
      ],
      "metadata": {
        "id": "nJDuOXzkpeN3"
      }
    },
    {
      "cell_type": "code",
      "source": [
        "# i. Use sklearn to 'train' a k-Neighbors Classifier\n",
        "# Note: KNN is a nonparametric model and technically doesn't require training\n",
        "# fit will essentially load the data into the model see link below for more information\n",
        "# https://stats.stackexchange.com/questions/349842/why-do-we-need-to-fit-a-k-nearest-neighbors-classifier\n",
        "kNN_model = KNeighborsClassifier(n_neighbors=5)\n",
        "kNN_model.fit(x_train,y_train)\n",
        "# ii. For a sample datapoint, predict the probabilities for each possible class\n",
        "kNN_model.predict_proba([[1,2,3,4]])"
      ],
      "metadata": {
        "id": "MwqQWps3pgV7",
        "colab": {
          "base_uri": "https://localhost:8080/"
        },
        "outputId": "3bff093b-12e8-4019-dd25-562c3203c305"
      },
      "execution_count": 61,
      "outputs": [
        {
          "output_type": "stream",
          "name": "stderr",
          "text": [
            "/usr/local/lib/python3.7/dist-packages/sklearn/base.py:451: UserWarning: X does not have valid feature names, but KNeighborsClassifier was fitted with feature names\n",
            "  \"X does not have valid feature names, but\"\n"
          ]
        },
        {
          "output_type": "execute_result",
          "data": {
            "text/plain": [
              "array([[0., 1., 0.]])"
            ]
          },
          "metadata": {},
          "execution_count": 61
        }
      ]
    },
    {
      "cell_type": "code",
      "source": [
        "# iii. Report on the score for kNN, what does the score measure?\n",
        "kNN_model.score(x_test,y_test)"
      ],
      "metadata": {
        "id": "DMCcweTuplt_",
        "colab": {
          "base_uri": "https://localhost:8080/"
        },
        "outputId": "ead51234-cfd9-4cd5-b6be-9a74d89c7b83"
      },
      "execution_count": 62,
      "outputs": [
        {
          "output_type": "execute_result",
          "data": {
            "text/plain": [
              "0.9333333333333333"
            ]
          },
          "metadata": {},
          "execution_count": 62
        }
      ]
    },
    {
      "cell_type": "markdown",
      "source": [
        "# Part 7: Conclusions and takeaways\n",
        "\n",
        "In your own words describe the results of the notebook. Which model(s) performed the best on the dataset? Why do you think that is? Did anything surprise you about the exercise?\n",
        "\n",
        "\n",
        "The main goal of the notebook was to accurately classify different species of iris plants. The dataset that was used contained different measurements for iris sepal length/width and petal length/width in order for the the ML to take this data and find patterns between the data. Out of all the models, the neural network model worked best with an accuracy of 100% while every other model scored a 93%. If these scores are accurate I can see why deep learning has been the trending topic within the AI space lately. Neural networks are known for excelling at pattern recognition and allow the creation of very complex functions to fit the data. I think what surprised me most about this excercise is how available these very powerful tools are available to everyone. Tools like these tend to feel almost like legends, tools that would be mentioned constantly in lectures but only used by NASA engineers or Ivy League Scientists. It was nice to see what we went over during lectures in practice."
      ],
      "metadata": {
        "id": "Qc4zVrkKppH6"
      }
    }
  ]
}